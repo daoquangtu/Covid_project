{
 "cells": [
  {
   "cell_type": "markdown",
   "id": "a5236fd3",
   "metadata": {},
   "source": [
    "# This is the Covid_project using dataset from Kaggle."
   ]
  },
  {
   "cell_type": "markdown",
   "id": "1c001879",
   "metadata": {},
   "source": [
    "In this project, I will check:"
   ]
  },
  {
   "cell_type": "markdown",
   "id": "7f763905",
   "metadata": {},
   "source": [
    "    - Death rate based on Age/sex\n",
    "    - Common symptoms/symptoms rate\n",
    "    - Allegry vs adverse effect"
   ]
  },
  {
   "cell_type": "markdown",
   "id": "7be4d5d6",
   "metadata": {},
   "source": [
    "Dataset is from Kaggle: https://www.kaggle.com/ayushggarg/covid19-vaccine-adverse-reactions"
   ]
  },
  {
   "cell_type": "markdown",
   "id": "565af366",
   "metadata": {},
   "source": [
    "# TABLE OF CONTENTS"
   ]
  },
  {
   "cell_type": "markdown",
   "id": "4bb2d6d9",
   "metadata": {},
   "source": [
    "&emsp;I.   [Import and have a look at Dataset](#1)\n",
    "   \n",
    "&emsp;II.  [Cleanning data](#2)\n",
    "   \n",
    "&emsp;III. [Analysing fatality rate after covid vaccination by age and sex](#3)\n",
    "   \n",
    "&emsp;&emsp;[A. Analysing fatality rate after covid vaccination by Sex](#3.1)\n",
    "\n",
    "&emsp;&emsp;[B. Analysing fatality rate after covid vaccination by Age](#3.2)\n"
   ]
  },
  {
   "cell_type": "markdown",
   "id": "71a25305",
   "metadata": {},
   "source": [
    "# I. Import and have a look at Dataset: <a name = \"1\"></a>"
   ]
  },
  {
   "cell_type": "code",
   "execution_count": null,
   "id": "a1ba3a70",
   "metadata": {},
   "outputs": [],
   "source": [
    "import numpy as np # linear algebra\n",
    "import pandas as pd # data processing, CSV file I/O (e.g. pd.read_csv)\n",
    "import seaborn as sns\n",
    "import matplotlib.pyplot as plt"
   ]
  },
  {
   "cell_type": "code",
   "execution_count": null,
   "id": "3849b942",
   "metadata": {},
   "outputs": [],
   "source": [
    "df_data = pd.read_csv(\"./dataset/2021VAERSDATA.csv\",low_memory=False)\n",
    "df_symptoms = pd.read_csv(\"./dataset/2021VAERSSYMPTOMS.csv\", low_memory=False)\n",
    "df_vaccine = pd.read_csv(\"./dataset/2021VAERSVAX.csv\", low_memory=False)"
   ]
  },
  {
   "cell_type": "code",
   "execution_count": 12,
   "id": "751e0df8",
   "metadata": {},
   "outputs": [
    {
     "name": "stdout",
     "output_type": "stream",
     "text": [
      "(34121, 36)\n",
      "(48110, 11)\n",
      "(34630, 8)\n"
     ]
    }
   ],
   "source": [
    "print(df_data.shape)\n",
    "print(df_symptoms.shape)\n",
    "print(df_vaccine.shape)"
   ]
  },
  {
   "cell_type": "code",
   "execution_count": 13,
   "id": "aeb197c3",
   "metadata": {},
   "outputs": [
    {
     "name": "stdout",
     "output_type": "stream",
     "text": [
      "<class 'pandas.core.frame.DataFrame'>\n",
      "RangeIndex: 34121 entries, 0 to 34120\n",
      "Data columns (total 36 columns):\n",
      " #   Column        Non-Null Count  Dtype  \n",
      "---  ------        --------------  -----  \n",
      " 0   VAERS_ID      34121 non-null  int64  \n",
      " 1   RECVDATE      34121 non-null  object \n",
      " 2   STATE         28550 non-null  object \n",
      " 3   AGE_YRS       30933 non-null  float64\n",
      " 4   CAGE_YR       26791 non-null  float64\n",
      " 5   CAGE_MO       83 non-null     float64\n",
      " 6   SEX           34121 non-null  object \n",
      " 7   RPT_DATE      63 non-null     object \n",
      " 8   SYMPTOM_TEXT  34119 non-null  object \n",
      " 9   DIED          1957 non-null   object \n",
      " 10  DATEDIED      1798 non-null   object \n",
      " 11  L_THREAT      1259 non-null   object \n",
      " 12  ER_VISIT      11 non-null     object \n",
      " 13  HOSPITAL      4387 non-null   object \n",
      " 14  HOSPDAYS      2857 non-null   float64\n",
      " 15  X_STAY        52 non-null     object \n",
      " 16  DISABLE       870 non-null    object \n",
      " 17  RECOVD        31264 non-null  object \n",
      " 18  VAX_DATE      32622 non-null  object \n",
      " 19  ONSET_DATE    32258 non-null  object \n",
      " 20  NUMDAYS       31194 non-null  float64\n",
      " 21  LAB_DATA      15080 non-null  object \n",
      " 22  V_ADMINBY     34121 non-null  object \n",
      " 23  V_FUNDBY      64 non-null     object \n",
      " 24  OTHER_MEDS    20239 non-null  object \n",
      " 25  CUR_ILL       16069 non-null  object \n",
      " 26  HISTORY       22375 non-null  object \n",
      " 27  PRIOR_VAX     1434 non-null   object \n",
      " 28  SPLTTYPE      8223 non-null   object \n",
      " 29  FORM_VERS     34121 non-null  int64  \n",
      " 30  TODAYS_DATE   33922 non-null  object \n",
      " 31  BIRTH_DEFECT  51 non-null     object \n",
      " 32  OFC_VISIT     5404 non-null   object \n",
      " 33  ER_ED_VISIT   5529 non-null   object \n",
      " 34  ALLERGIES     18587 non-null  object \n",
      " 35  DIED_SORTED   34121 non-null  object \n",
      "dtypes: float64(5), int64(2), object(29)\n",
      "memory usage: 9.4+ MB\n",
      "None\n"
     ]
    }
   ],
   "source": [
    "print(df_data.info())"
   ]
  },
  {
   "cell_type": "code",
   "execution_count": 5,
   "id": "3d682a9e",
   "metadata": {},
   "outputs": [
    {
     "name": "stdout",
     "output_type": "stream",
     "text": [
      "   VAERS_ID    RECVDATE STATE  AGE_YRS  CAGE_YR  CAGE_MO SEX RPT_DATE  \\\n",
      "0    916600  01/01/2021    TX     33.0     33.0      NaN   F      NaN   \n",
      "1    916601  01/01/2021    CA     73.0     73.0      NaN   F      NaN   \n",
      "2    916602  01/01/2021    WA     23.0     23.0      NaN   F      NaN   \n",
      "3    916603  01/01/2021    WA     58.0     58.0      NaN   F      NaN   \n",
      "4    916604  01/01/2021    TX     47.0     47.0      NaN   F      NaN   \n",
      "\n",
      "                                        SYMPTOM_TEXT DIED  ...  \\\n",
      "0  Right side of epiglottis swelled up and hinder...  NaN  ...   \n",
      "1  Approximately 30 min post vaccination administ...  NaN  ...   \n",
      "2  About 15 minutes after receiving the vaccine, ...  NaN  ...   \n",
      "3  extreme fatigue, dizziness,. could not lift my...  NaN  ...   \n",
      "4  Injection site swelling, redness, warm to the ...  NaN  ...   \n",
      "\n",
      "                                             CUR_ILL  \\\n",
      "0                                               None   \n",
      "1  Patient residing at nursing facility. See pati...   \n",
      "2                                               None   \n",
      "3                                   kidney infection   \n",
      "4                                                 Na   \n",
      "\n",
      "                                             HISTORY  \\\n",
      "0                                               None   \n",
      "1  Patient residing at nursing facility. See pati...   \n",
      "2                                               None   \n",
      "3  diverticulitis, mitral valve prolapse, osteoar...   \n",
      "4                                                NaN   \n",
      "\n",
      "                                           PRIOR_VAX SPLTTYPE  FORM_VERS  \\\n",
      "0                                                NaN      NaN          2   \n",
      "1                                                NaN      NaN          2   \n",
      "2                                                NaN      NaN          2   \n",
      "3  got measles from measel shot, mums from mumps ...      NaN          2   \n",
      "4                                                NaN      NaN          2   \n",
      "\n",
      "  TODAYS_DATE BIRTH_DEFECT OFC_VISIT ER_ED_VISIT  \\\n",
      "0  01/01/2021          NaN         Y         NaN   \n",
      "1  01/01/2021          NaN         Y         NaN   \n",
      "2  01/01/2021          NaN       NaN           Y   \n",
      "3  01/01/2021          NaN       NaN         NaN   \n",
      "4  01/01/2021          NaN       NaN         NaN   \n",
      "\n",
      "                                           ALLERGIES  \n",
      "0                                  Pcn and bee venom  \n",
      "1                                            \"Dairy\"  \n",
      "2                                          Shellfish  \n",
      "3  Diclofenac, novacaine, lidocaine, pickles, tom...  \n",
      "4                                                 Na  \n",
      "\n",
      "[5 rows x 35 columns]\n"
     ]
    }
   ],
   "source": [
    "print(df_data.head())"
   ]
  },
  {
   "cell_type": "markdown",
   "id": "5ecd4b80",
   "metadata": {},
   "source": [
    "# II. Cleanning data <a name = \"2\"></a>"
   ]
  },
  {
   "cell_type": "code",
   "execution_count": 14,
   "id": "7f78188b",
   "metadata": {},
   "outputs": [
    {
     "data": {
      "text/plain": [
       "VAERS_ID            0\n",
       "RECVDATE            0\n",
       "STATE            5571\n",
       "AGE_YRS          3188\n",
       "CAGE_YR          7330\n",
       "CAGE_MO         34038\n",
       "SEX                 0\n",
       "RPT_DATE        34058\n",
       "SYMPTOM_TEXT        2\n",
       "DIED            32164\n",
       "DATEDIED        32323\n",
       "L_THREAT        32862\n",
       "ER_VISIT        34110\n",
       "HOSPITAL        29734\n",
       "HOSPDAYS        31264\n",
       "X_STAY          34069\n",
       "DISABLE         33251\n",
       "RECOVD           2857\n",
       "VAX_DATE         1499\n",
       "ONSET_DATE       1863\n",
       "NUMDAYS          2927\n",
       "LAB_DATA        19041\n",
       "V_ADMINBY           0\n",
       "V_FUNDBY        34057\n",
       "OTHER_MEDS      13882\n",
       "CUR_ILL         18052\n",
       "HISTORY         11746\n",
       "PRIOR_VAX       32687\n",
       "SPLTTYPE        25898\n",
       "FORM_VERS           0\n",
       "TODAYS_DATE       199\n",
       "BIRTH_DEFECT    34070\n",
       "OFC_VISIT       28717\n",
       "ER_ED_VISIT     28592\n",
       "ALLERGIES       15534\n",
       "DIED_SORTED         0\n",
       "dtype: int64"
      ]
     },
     "execution_count": 14,
     "metadata": {},
     "output_type": "execute_result"
    }
   ],
   "source": [
    "df_data.isna().sum() "
   ]
  },
  {
   "cell_type": "markdown",
   "id": "64d65323",
   "metadata": {},
   "source": [
    "As you can see, DIED column have NaN value. We will use fillna function to solve the problem."
   ]
  },
  {
   "cell_type": "code",
   "execution_count": 7,
   "id": "3ae7a414",
   "metadata": {},
   "outputs": [
    {
     "name": "stdout",
     "output_type": "stream",
     "text": [
      "0        N\n",
      "1        N\n",
      "2        N\n",
      "3        N\n",
      "4        N\n",
      "        ..\n",
      "34116    N\n",
      "34117    N\n",
      "34118    Y\n",
      "34119    Y\n",
      "34120    Y\n",
      "Name: DIED, Length: 34121, dtype: object\n"
     ]
    }
   ],
   "source": [
    "Died_sorted = df_data[\"DIED\"].fillna(\"N\")\n",
    "print(Died_sorted)"
   ]
  },
  {
   "cell_type": "code",
   "execution_count": 8,
   "id": "21c92d74",
   "metadata": {},
   "outputs": [
    {
     "name": "stdout",
     "output_type": "stream",
     "text": [
      "<class 'pandas.core.frame.DataFrame'>\n",
      "RangeIndex: 34121 entries, 0 to 34120\n",
      "Data columns (total 36 columns):\n",
      " #   Column        Non-Null Count  Dtype  \n",
      "---  ------        --------------  -----  \n",
      " 0   VAERS_ID      34121 non-null  int64  \n",
      " 1   RECVDATE      34121 non-null  object \n",
      " 2   STATE         28550 non-null  object \n",
      " 3   AGE_YRS       30933 non-null  float64\n",
      " 4   CAGE_YR       26791 non-null  float64\n",
      " 5   CAGE_MO       83 non-null     float64\n",
      " 6   SEX           34121 non-null  object \n",
      " 7   RPT_DATE      63 non-null     object \n",
      " 8   SYMPTOM_TEXT  34119 non-null  object \n",
      " 9   DIED          1957 non-null   object \n",
      " 10  DATEDIED      1798 non-null   object \n",
      " 11  L_THREAT      1259 non-null   object \n",
      " 12  ER_VISIT      11 non-null     object \n",
      " 13  HOSPITAL      4387 non-null   object \n",
      " 14  HOSPDAYS      2857 non-null   float64\n",
      " 15  X_STAY        52 non-null     object \n",
      " 16  DISABLE       870 non-null    object \n",
      " 17  RECOVD        31264 non-null  object \n",
      " 18  VAX_DATE      32622 non-null  object \n",
      " 19  ONSET_DATE    32258 non-null  object \n",
      " 20  NUMDAYS       31194 non-null  float64\n",
      " 21  LAB_DATA      15080 non-null  object \n",
      " 22  V_ADMINBY     34121 non-null  object \n",
      " 23  V_FUNDBY      64 non-null     object \n",
      " 24  OTHER_MEDS    20239 non-null  object \n",
      " 25  CUR_ILL       16069 non-null  object \n",
      " 26  HISTORY       22375 non-null  object \n",
      " 27  PRIOR_VAX     1434 non-null   object \n",
      " 28  SPLTTYPE      8223 non-null   object \n",
      " 29  FORM_VERS     34121 non-null  int64  \n",
      " 30  TODAYS_DATE   33922 non-null  object \n",
      " 31  BIRTH_DEFECT  51 non-null     object \n",
      " 32  OFC_VISIT     5404 non-null   object \n",
      " 33  ER_ED_VISIT   5529 non-null   object \n",
      " 34  ALLERGIES     18587 non-null  object \n",
      " 35  DIED_SORTED   34121 non-null  object \n",
      "dtypes: float64(5), int64(2), object(29)\n",
      "memory usage: 9.4+ MB\n",
      "None\n"
     ]
    }
   ],
   "source": [
    "df_data[\"DIED_SORTED\"] = df_data[\"DIED\"].fillna(\"N\")\n",
    "print(df_data.info())"
   ]
  },
  {
   "cell_type": "markdown",
   "id": "b9c3eaf4",
   "metadata": {},
   "source": [
    "Since df_data has data from many kind of vaccines. We need only covid vaccine, so we will merge df_data and df_vaccine."
   ]
  },
  {
   "cell_type": "code",
   "execution_count": 15,
   "id": "7c066340",
   "metadata": {},
   "outputs": [
    {
     "name": "stdout",
     "output_type": "stream",
     "text": [
      "<class 'pandas.core.frame.DataFrame'>\n",
      "Int64Index: 34630 entries, 0 to 34629\n",
      "Data columns (total 43 columns):\n",
      " #   Column           Non-Null Count  Dtype  \n",
      "---  ------           --------------  -----  \n",
      " 0   VAERS_ID         34630 non-null  int64  \n",
      " 1   RECVDATE         34630 non-null  object \n",
      " 2   STATE            29009 non-null  object \n",
      " 3   AGE_YRS          31421 non-null  float64\n",
      " 4   CAGE_YR          27252 non-null  float64\n",
      " 5   CAGE_MO          105 non-null    float64\n",
      " 6   SEX              34630 non-null  object \n",
      " 7   RPT_DATE         65 non-null     object \n",
      " 8   SYMPTOM_TEXT     34628 non-null  object \n",
      " 9   DIED             2042 non-null   object \n",
      " 10  DATEDIED         1873 non-null   object \n",
      " 11  L_THREAT         1314 non-null   object \n",
      " 12  ER_VISIT         11 non-null     object \n",
      " 13  HOSPITAL         4555 non-null   object \n",
      " 14  HOSPDAYS         2969 non-null   float64\n",
      " 15  X_STAY           54 non-null     object \n",
      " 16  DISABLE          912 non-null    object \n",
      " 17  RECOVD           31717 non-null  object \n",
      " 18  VAX_DATE         33110 non-null  object \n",
      " 19  ONSET_DATE       32740 non-null  object \n",
      " 20  NUMDAYS          31667 non-null  float64\n",
      " 21  LAB_DATA         15385 non-null  object \n",
      " 22  V_ADMINBY        34630 non-null  object \n",
      " 23  V_FUNDBY         66 non-null     object \n",
      " 24  OTHER_MEDS       20604 non-null  object \n",
      " 25  CUR_ILL          16367 non-null  object \n",
      " 26  HISTORY          22743 non-null  object \n",
      " 27  PRIOR_VAX        1454 non-null   object \n",
      " 28  SPLTTYPE         8293 non-null   object \n",
      " 29  FORM_VERS        34630 non-null  int64  \n",
      " 30  TODAYS_DATE      34423 non-null  object \n",
      " 31  BIRTH_DEFECT     52 non-null     object \n",
      " 32  OFC_VISIT        5533 non-null   object \n",
      " 33  ER_ED_VISIT      5679 non-null   object \n",
      " 34  ALLERGIES        18944 non-null  object \n",
      " 35  DIED_SORTED      34630 non-null  object \n",
      " 36  VAX_TYPE         34630 non-null  object \n",
      " 37  VAX_MANU         34630 non-null  object \n",
      " 38  VAX_LOT          23513 non-null  object \n",
      " 39  VAX_DOSE_SERIES  34568 non-null  object \n",
      " 40  VAX_ROUTE        26229 non-null  object \n",
      " 41  VAX_SITE         26687 non-null  object \n",
      " 42  VAX_NAME         34630 non-null  object \n",
      "dtypes: float64(5), int64(2), object(36)\n",
      "memory usage: 11.6+ MB\n",
      "None\n"
     ]
    }
   ],
   "source": [
    "df_data_vaccine= df_data.merge(df_vaccine, how = \"inner\", on = \"VAERS_ID\")\n",
    "print(df_data_vaccine.info())"
   ]
  },
  {
   "cell_type": "markdown",
   "id": "26d55e33",
   "metadata": {},
   "source": [
    "Then we need to sort VAX_NAME column giving only covid vaccine"
   ]
  },
  {
   "cell_type": "code",
   "execution_count": 22,
   "id": "88804f77",
   "metadata": {},
   "outputs": [
    {
     "name": "stdout",
     "output_type": "stream",
     "text": [
      "<class 'pandas.core.frame.DataFrame'>\n",
      "Int64Index: 34174 entries, 0 to 34629\n",
      "Data columns (total 43 columns):\n",
      " #   Column           Non-Null Count  Dtype  \n",
      "---  ------           --------------  -----  \n",
      " 0   VAERS_ID         34174 non-null  int64  \n",
      " 1   RECVDATE         34174 non-null  object \n",
      " 2   STATE            28646 non-null  object \n",
      " 3   AGE_YRS          31138 non-null  float64\n",
      " 4   CAGE_YR          27023 non-null  float64\n",
      " 5   CAGE_MO          69 non-null     float64\n",
      " 6   SEX              34174 non-null  object \n",
      " 7   RPT_DATE         65 non-null     object \n",
      " 8   SYMPTOM_TEXT     34172 non-null  object \n",
      " 9   DIED             1969 non-null   object \n",
      " 10  DATEDIED         1816 non-null   object \n",
      " 11  L_THREAT         1295 non-null   object \n",
      " 12  ER_VISIT         11 non-null     object \n",
      " 13  HOSPITAL         4433 non-null   object \n",
      " 14  HOSPDAYS         2915 non-null   float64\n",
      " 15  X_STAY           51 non-null     object \n",
      " 16  DISABLE          851 non-null    object \n",
      " 17  RECOVD           31305 non-null  object \n",
      " 18  VAX_DATE         32782 non-null  object \n",
      " 19  ONSET_DATE       32450 non-null  object \n",
      " 20  NUMDAYS          31403 non-null  float64\n",
      " 21  LAB_DATA         15232 non-null  object \n",
      " 22  V_ADMINBY        34174 non-null  object \n",
      " 23  V_FUNDBY         66 non-null     object \n",
      " 24  OTHER_MEDS       20424 non-null  object \n",
      " 25  CUR_ILL          16189 non-null  object \n",
      " 26  HISTORY          22531 non-null  object \n",
      " 27  PRIOR_VAX        1454 non-null   object \n",
      " 28  SPLTTYPE         8029 non-null   object \n",
      " 29  FORM_VERS        34174 non-null  int64  \n",
      " 30  TODAYS_DATE      33967 non-null  object \n",
      " 31  BIRTH_DEFECT     52 non-null     object \n",
      " 32  OFC_VISIT        5440 non-null   object \n",
      " 33  ER_ED_VISIT      5610 non-null   object \n",
      " 34  ALLERGIES        18802 non-null  object \n",
      " 35  DIED_SORTED      34174 non-null  object \n",
      " 36  VAX_TYPE         34174 non-null  object \n",
      " 37  VAX_MANU         34174 non-null  object \n",
      " 38  VAX_LOT          23345 non-null  object \n",
      " 39  VAX_DOSE_SERIES  34123 non-null  object \n",
      " 40  VAX_ROUTE        25953 non-null  object \n",
      " 41  VAX_SITE         26538 non-null  object \n",
      " 42  VAX_NAME         34174 non-null  object \n",
      "dtypes: float64(5), int64(2), object(36)\n",
      "memory usage: 11.5+ MB\n",
      "None\n"
     ]
    }
   ],
   "source": [
    "df_data_vaccine_sorted = df_data_vaccine[df_data_vaccine[\"VAX_TYPE\"] == \"COVID19\"]\n",
    "\n",
    "print(df_data_vaccine_sorted.info())"
   ]
  },
  {
   "cell_type": "markdown",
   "id": "f54689ff",
   "metadata": {},
   "source": [
    "Now we have new df_data_vaccine_sorted that having sorted vaccine_type column. Let's use it\n",
    "to analyse the fatality rate after covid vaccination by age and sex"
   ]
  },
  {
   "cell_type": "markdown",
   "id": "2bdc630e",
   "metadata": {},
   "source": [
    "# III. Analysing fatality rate after covid vaccination by age and sex<a name = \"3\"></a>"
   ]
  },
  {
   "cell_type": "markdown",
   "id": "27debc1f",
   "metadata": {},
   "source": [
    "***A. Analysing fatality rate after covid vaccination by Sex***<a name = \"3.1\"></a>"
   ]
  },
  {
   "cell_type": "markdown",
   "id": "72185af2",
   "metadata": {},
   "source": [
    "Fist, we will look at the fatality rate after covid vaccination "
   ]
  },
  {
   "cell_type": "code",
   "execution_count": 19,
   "id": "bac914ee",
   "metadata": {},
   "outputs": [
    {
     "data": {
      "image/png": "[encoded data removed]",
      "text/plain": [
       "<Figure size 432x432 with 1 Axes>"
      ]
     },
     "metadata": {},
     "output_type": "display_data"
    }
   ],
   "source": [
    "df_data = df_data_vaccine_sorted\n",
    "df_deaths_lives_rate = df_data[\"DIED_SORTED\"].value_counts(normalize = True)\n",
    "plt.figure(figsize = (6,6))\n",
    "plt.title(\"Fatality rate after covid vaccination\")\n",
    "plt.pie(df_deaths_lives_rate, autopct = \"%.2f\", labels = [\"Lives\", \"Deaths\"], explode = [0,0.4])\n",
    "plt.show()"
   ]
  },
  {
   "cell_type": "markdown",
   "id": "948d4d41",
   "metadata": {},
   "source": [
    "From the chart, the rate of death after vaccination is around 5.7%. "
   ]
  },
  {
   "cell_type": "markdown",
   "id": "1a4033b8",
   "metadata": {},
   "source": [
    "Next, we will analyse the fatality rate after vaccination by age and sex. First, we will subset columns AGE_YRS, SEX, DIED from df_data"
   ]
  },
  {
   "cell_type": "code",
   "execution_count": 23,
   "id": "79dc1865",
   "metadata": {},
   "outputs": [
    {
     "name": "stdout",
     "output_type": "stream",
     "text": [
      "       AGE_YRS SEX DIED\n",
      "0         33.0   F  NaN\n",
      "1         73.0   F  NaN\n",
      "2         23.0   F  NaN\n",
      "3         58.0   F  NaN\n",
      "4         47.0   F  NaN\n",
      "...        ...  ..  ...\n",
      "34625     88.0   F  NaN\n",
      "34626     83.0   F  NaN\n",
      "34627     59.0   F    Y\n",
      "34628     57.0   M    Y\n",
      "34629      NaN   F    Y\n",
      "\n",
      "[34174 rows x 3 columns]\n"
     ]
    }
   ],
   "source": [
    "df_age_sex_die = df_data[[\"AGE_YRS\", \"SEX\", \"DIED\"]]\n",
    "print(df_age_sex_die)"
   ]
  },
  {
   "cell_type": "markdown",
   "id": "66ebf429",
   "metadata": {},
   "source": [
    "Then, we will sort DIED column by \"Y\""
   ]
  },
  {
   "cell_type": "code",
   "execution_count": 24,
   "id": "f2ffb07e",
   "metadata": {},
   "outputs": [
    {
     "name": "stdout",
     "output_type": "stream",
     "text": [
      "       AGE_YRS SEX DIED\n",
      "474       82.0   M    Y\n",
      "1131      90.0   F    Y\n",
      "1134      78.0   F    Y\n",
      "1385      64.0   M    Y\n",
      "1605      65.0   F    Y\n",
      "...        ...  ..  ...\n",
      "34621      NaN   U    Y\n",
      "34622     70.0   M    Y\n",
      "34627     59.0   F    Y\n",
      "34628     57.0   M    Y\n",
      "34629      NaN   F    Y\n",
      "\n",
      "[1969 rows x 3 columns]\n"
     ]
    }
   ],
   "source": [
    "df_sorted_died = df_age_sex_die[df_age_sex_die[\"DIED\"] == \"Y\"]\n",
    "print(df_sorted_died)"
   ]
  },
  {
   "cell_type": "code",
   "execution_count": 25,
   "id": "de2de3ea",
   "metadata": {},
   "outputs": [
    {
     "data": {
      "image/png": "[encoded data removed]",
      "text/plain": [
       "<Figure size 504x504 with 1 Axes>"
      ]
     },
     "metadata": {},
     "output_type": "display_data"
    }
   ],
   "source": [
    "df_death_by_sex = df_sorted_died[\"SEX\"].value_counts(normalize = True)\n",
    "df_death_by_sex_labels = [\"Male\",\"Female\",\"Unknown\"]\n",
    "df_death_by_sex_colors = [\"m\",\"y\",\"r\"]\n",
    "plt.figure(figsize = (7,7))\n",
    "plt.pie(df_sorted_died[\"SEX\"].value_counts(normalize = True), autopct = \"%.2f\",labels = df_death_by_sex_labels, colors = df_death_by_sex_colors)\n",
    "plt.show()"
   ]
  },
  {
   "cell_type": "markdown",
   "id": "abc24160",
   "metadata": {},
   "source": [
    "We can see that in the fatality rate 5.7% after vaccination, the fatality rate of female, male and unknown is 43.38%, 54,47%, 2.15% respectively."
   ]
  },
  {
   "cell_type": "markdown",
   "id": "afe94336",
   "metadata": {},
   "source": [
    "***B. Analysing fatality rate after covid vaccination by Age***<a name = \"3.2\"></a>"
   ]
  },
  {
   "cell_type": "code",
   "execution_count": 26,
   "id": "fa802b51",
   "metadata": {},
   "outputs": [
    {
     "name": "stdout",
     "output_type": "stream",
     "text": [
      "85.0     71\n",
      "77.0     70\n",
      "83.0     69\n",
      "90.0     64\n",
      "88.0     62\n",
      "         ..\n",
      "33.0      1\n",
      "104.0     1\n",
      "24.0      1\n",
      "30.0      1\n",
      "22.0      1\n",
      "Name: AGE_YRS, Length: 83, dtype: int64\n"
     ]
    }
   ],
   "source": [
    "df_death_by_age = df_sorted_died[\"AGE_YRS\"].value_counts()\n",
    "print(df_death_by_age)\n"
   ]
  },
  {
   "cell_type": "code",
   "execution_count": 27,
   "id": "eb4b84c7",
   "metadata": {},
   "outputs": [
    {
     "data": {
      "image/png": "[encoded data removed]",
      "text/plain": [
       "<Figure size 432x288 with 1 Axes>"
      ]
     },
     "metadata": {
      "needs_background": "light"
     },
     "output_type": "display_data"
    }
   ],
   "source": [
    "plt.bar(df_death_by_age.index,df_death_by_age.values)\n",
    "plt.title(\"Death by age from \")\n",
    "\n",
    "plt.show()\n",
    "\n"
   ]
  },
  {
   "cell_type": "code",
   "execution_count": null,
   "id": "04930237",
   "metadata": {},
   "outputs": [],
   "source": []
  }
 ],
 "metadata": {
  "kernelspec": {
   "display_name": "Python 3",
   "language": "python",
   "name": "python3"
  },
  "language_info": {
   "codemirror_mode": {
    "name": "ipython",
    "version": 3
   },
   "file_extension": ".py",
   "mimetype": "text/x-python",
   "name": "python",
   "nbconvert_exporter": "python",
   "pygments_lexer": "ipython3",
   "version": "3.8.8"
  }
 },
 "nbformat": 4,
 "nbformat_minor": 5
}
